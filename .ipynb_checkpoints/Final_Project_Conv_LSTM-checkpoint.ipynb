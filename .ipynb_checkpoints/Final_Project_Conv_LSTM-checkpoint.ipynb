{
 "cells": [
  {
   "cell_type": "code",
   "execution_count": 17,
   "metadata": {},
   "outputs": [],
   "source": [
    "import pandas as pd\n",
    "import tensorflow as tf\n",
    "import numpy as np\n",
    "from numpy import mean\n",
    "from numpy import std\n",
    "from tensorflow.keras import layers\n",
    "import tensorflow.keras as k\n",
    "from tensorflow.keras.models import Sequential\n",
    "from tensorflow.keras.layers import Dense\n",
    "from tensorflow.keras.layers import Flatten\n",
    "from tensorflow.keras.layers import LSTM\n",
    "from tensorflow.keras.layers import Dropout\n",
    "from tensorflow.keras.callbacks import ModelCheckpoint\n",
    "from tensorflow.keras.callbacks import TensorBoard\n",
    "from tensorflow.keras.layers import TimeDistributed\n",
    "from tensorflow.keras.layers import ConvLSTM2D\n",
    "from tensorflow.keras.layers import Conv1D\n",
    "from tensorflow.keras.layers import MaxPooling1D\n",
    "from keras.utils import to_categorical\n",
    "from matplotlib import pyplot\n",
    "import datetime"
   ]
  },
  {
   "cell_type": "code",
   "execution_count": 10,
   "metadata": {},
   "outputs": [],
   "source": [
    "def load_file(filepath):\n",
    "\tdataframe = pd.read_csv(filepath, header=None, delim_whitespace=True)\n",
    "\treturn dataframe.values"
   ]
  },
  {
   "cell_type": "code",
   "execution_count": 11,
   "metadata": {},
   "outputs": [],
   "source": [
    "# load a list of files into a 3D array of [samples, timesteps, features]\n",
    "def load_group(filenames, prefix=''):\n",
    "\tloaded = list()\n",
    "\tfor name in filenames:\n",
    "\t\tdata = load_file(prefix + name)\n",
    "\t\tloaded.append(data)\n",
    "\t# stack group so that features are the 3rd dimension\n",
    "\tloaded = np.dstack(loaded)\n",
    "\treturn loaded"
   ]
  },
  {
   "cell_type": "code",
   "execution_count": 12,
   "metadata": {},
   "outputs": [],
   "source": [
    "# load a dataset group, such as train or test\n",
    "def load_dataset_group(group, prefix=''):\n",
    "\tfilepath = prefix + group + '/Inertial Signals/'\n",
    "\t# load all 9 files as a single array\n",
    "\tfilenames = list()\n",
    "\t# total acceleration\n",
    "\tfilenames += ['total_acc_x_'+group+'.txt', 'total_acc_y_'+group+'.txt', 'total_acc_z_'+group+'.txt']\n",
    "\t# body acceleration\n",
    "\tfilenames += ['body_acc_x_'+group+'.txt', 'body_acc_y_'+group+'.txt', 'body_acc_z_'+group+'.txt']\n",
    "\t# body gyroscope\n",
    "\tfilenames += ['body_gyro_x_'+group+'.txt', 'body_gyro_y_'+group+'.txt', 'body_gyro_z_'+group+'.txt']\n",
    "\t# load input data\n",
    "\tX = load_group(filenames, filepath)\n",
    "\t# load class output\n",
    "\ty = load_file(prefix + group + '/y_'+group+'.txt')\n",
    "\treturn X, y"
   ]
  },
  {
   "cell_type": "code",
   "execution_count": 13,
   "metadata": {},
   "outputs": [],
   "source": [
    "# load the dataset, returns train and test X and y elements\n",
    "def load_dataset(prefix=''):\n",
    "\t# load all train\n",
    "\ttrainX, trainy = load_dataset_group('train', prefix + 'HARDataset/')\n",
    "\tprint(trainX.shape, trainy.shape)\n",
    "\t# load all test\n",
    "\ttestX, testy = load_dataset_group('test', prefix + 'HARDataset/')\n",
    "\tprint(testX.shape, testy.shape)\n",
    "\t# zero-offset class values\n",
    "\ttrainy = trainy - 1\n",
    "\ttesty = testy - 1\n",
    "\t# one hot encode y\n",
    "\ttrainy = tf.keras.utils.to_categorical(trainy)\n",
    "\ttesty = tf.keras.utils.to_categorical(testy)\n",
    "\tprint(trainX.shape, trainy.shape, testX.shape, testy.shape)\n",
    "\treturn trainX, trainy, testX, testy"
   ]
  },
  {
   "cell_type": "code",
   "execution_count": 14,
   "metadata": {},
   "outputs": [
    {
     "name": "stdout",
     "output_type": "stream",
     "text": [
      "(7352, 128, 9) (7352, 1)\n",
      "(2947, 128, 9) (2947, 1)\n",
      "(7352, 128, 9) (7352, 6) (2947, 128, 9) (2947, 6)\n"
     ]
    }
   ],
   "source": [
    "trainX, trainy, testX, testy = load_dataset()\n",
    "n_timesteps, n_features, n_outputs = trainX.shape[1], trainX.shape[2], trainy.shape[1]"
   ]
  },
  {
   "cell_type": "code",
   "execution_count": 18,
   "metadata": {},
   "outputs": [],
   "source": [
    "# reshape into subsequences (samples, time steps, rows, cols, channels)\n",
    "n_steps, n_length = 4, 32\n",
    "# define model\n",
    "model = Sequential()\n",
    "model.add(ConvLSTM2D(filters=64, kernel_size=(1,3), activation='relu', input_shape=(n_steps, 1, n_length, n_features)))\n",
    "model.add(Dropout(0.5))\n",
    "model.add(Flatten())\n",
    "model.add(Dense(100, activation='relu'))\n",
    "model.add(Dense(n_outputs, activation='softmax'))\n",
    "model.compile(loss='categorical_crossentropy', optimizer='adam', metrics=['accuracy'])"
   ]
  },
  {
   "cell_type": "code",
   "execution_count": 22,
   "metadata": {},
   "outputs": [],
   "source": [
    "log_dir_cnn = \"logs/fitconv/\" + datetime.datetime.now().strftime(\"%Y%m%d-%H%M%S\")\n",
    "tensorboard_callback = TensorBoard(log_dir=log_dir_cnn, histogram_freq=1, update_freq = 2000)\n",
    "def evaluate_model(trainX, trainy, testX, testy, model):\n",
    "\t# define model\n",
    "\tverbose, epochs, batch_size = 1, 25, 64\n",
    "\tn_timesteps, n_features, n_outputs = trainX.shape[1], trainX.shape[2], trainy.shape[1]\n",
    "\t# reshape into subsequences (samples, time steps, rows, cols, channels)\n",
    "\tn_steps, n_length = 4, 32\n",
    "\ttrainX = trainX.reshape((trainX.shape[0], n_steps, 1, n_length, n_features))\n",
    "\ttestX = testX.reshape((testX.shape[0], n_steps, 1, n_length, n_features))\n",
    "\t# fit network\n",
    "\tmodel.fit(trainX, trainy, epochs=epochs, batch_size=batch_size, verbose=verbose, callbacks=[tensorboard_callback])\n",
    "\t# evaluate model\n",
    "\t_, accuracy = model.evaluate(testX, testy, batch_size=batch_size, verbose=0)\n",
    "\treturn accuracy"
   ]
  },
  {
   "cell_type": "code",
   "execution_count": 23,
   "metadata": {},
   "outputs": [],
   "source": [
    "# summarize scores\n",
    "def summarize_results(scores):\n",
    "\tprint(scores)\n",
    "\tm, s = mean(scores), std(scores)\n",
    "\tprint('Accuracy: %.3f%% (+/-%.3f)' % (m, s))"
   ]
  },
  {
   "cell_type": "code",
   "execution_count": 24,
   "metadata": {},
   "outputs": [],
   "source": [
    "# run an experiment\n",
    "scores = list()\n",
    "def run_experiment(repeats=1):\n",
    "\t# load data\n",
    "\ttrainX, trainy, testX, testy = load_dataset()\n",
    "\t# repeat experiment\n",
    "\tfor r in range(repeats):\n",
    "\t\tscore = evaluate_model(trainX, trainy, testX, testy, model)\n",
    "\t\tscore = score * 100.0\n",
    "\t\tprint('>#%d: %.3f' % (r+1, score))\n",
    "\t\tscores.append(score)"
   ]
  },
  {
   "cell_type": "code",
   "execution_count": 25,
   "metadata": {},
   "outputs": [
    {
     "name": "stdout",
     "output_type": "stream",
     "text": [
      "(7352, 128, 9) (7352, 1)\n",
      "(2947, 128, 9) (2947, 1)\n",
      "(7352, 128, 9) (7352, 6) (2947, 128, 9) (2947, 6)\n",
      "Train on 7352 samples\n",
      "Epoch 1/25\n",
      "7352/7352 [==============================] - 9s 1ms/sample - loss: 0.5996 - accuracy: 0.7659\n",
      "Epoch 2/25\n",
      "7352/7352 [==============================] - 6s 846us/sample - loss: 0.2088 - accuracy: 0.9210\n",
      "Epoch 3/25\n",
      "7352/7352 [==============================] - 7s 910us/sample - loss: 0.1544 - accuracy: 0.9365\n",
      "Epoch 4/25\n",
      "7352/7352 [==============================] - 8s 1ms/sample - loss: 0.1331 - accuracy: 0.9456\n",
      "Epoch 5/25\n",
      "7352/7352 [==============================] - 8s 1ms/sample - loss: 0.1257 - accuracy: 0.9479\n",
      "Epoch 6/25\n",
      "7352/7352 [==============================] - 7s 979us/sample - loss: 0.1199 - accuracy: 0.9512\n",
      "Epoch 7/25\n",
      "7352/7352 [==============================] - 6s 873us/sample - loss: 0.1204 - accuracy: 0.9489\n",
      "Epoch 8/25\n",
      "7352/7352 [==============================] - 6s 848us/sample - loss: 0.1080 - accuracy: 0.9542\n",
      "Epoch 9/25\n",
      "7352/7352 [==============================] - 6s 823us/sample - loss: 0.1074 - accuracy: 0.9529\n",
      "Epoch 10/25\n",
      "7352/7352 [==============================] - 6s 822us/sample - loss: 0.1017 - accuracy: 0.9563\n",
      "Epoch 11/25\n",
      "7352/7352 [==============================] - 6s 863us/sample - loss: 0.1035 - accuracy: 0.9554\n",
      "Epoch 12/25\n",
      "7352/7352 [==============================] - 6s 867us/sample - loss: 0.1012 - accuracy: 0.9577\n",
      "Epoch 13/25\n",
      "7352/7352 [==============================] - 6s 882us/sample - loss: 0.1011 - accuracy: 0.9557\n",
      "Epoch 14/25\n",
      "7352/7352 [==============================] - 6s 835us/sample - loss: 0.0966 - accuracy: 0.9574\n",
      "Epoch 15/25\n",
      "7352/7352 [==============================] - 6s 862us/sample - loss: 0.0911 - accuracy: 0.9589\n",
      "Epoch 16/25\n",
      "7352/7352 [==============================] - 9s 1ms/sample - loss: 0.0917 - accuracy: 0.9603\n",
      "Epoch 17/25\n",
      "7352/7352 [==============================] - 9s 1ms/sample - loss: 0.1004 - accuracy: 0.9584\n",
      "Epoch 18/25\n",
      "7352/7352 [==============================] - 7s 1ms/sample - loss: 0.0865 - accuracy: 0.9611\n",
      "Epoch 19/25\n",
      "7352/7352 [==============================] - 7s 976us/sample - loss: 0.0821 - accuracy: 0.9630\n",
      "Epoch 20/25\n",
      "7352/7352 [==============================] - 7s 992us/sample - loss: 0.0817 - accuracy: 0.9640\n",
      "Epoch 21/25\n",
      "7352/7352 [==============================] - 7s 993us/sample - loss: 0.0876 - accuracy: 0.9607\n",
      "Epoch 22/25\n",
      "7352/7352 [==============================] - 7s 992us/sample - loss: 0.0794 - accuracy: 0.9627\n",
      "Epoch 23/25\n",
      "7352/7352 [==============================] - 7s 990us/sample - loss: 0.0747 - accuracy: 0.9661\n",
      "Epoch 24/25\n",
      "7352/7352 [==============================] - 7s 992us/sample - loss: 0.0730 - accuracy: 0.9641\n",
      "Epoch 25/25\n",
      "7352/7352 [==============================] - 7s 990us/sample - loss: 0.0724 - accuracy: 0.9659\n",
      ">#1: 90.499\n",
      "[90.49881100654602]\n",
      "Accuracy: 90.499% (+/-0.000)\n"
     ]
    }
   ],
   "source": [
    "# run the experiment\n",
    "run_experiment()\n",
    "# summarize results\n",
    "summarize_results(scores)"
   ]
  }
 ],
 "metadata": {
  "kernelspec": {
   "display_name": "Python 3",
   "language": "python",
   "name": "python3"
  },
  "language_info": {
   "codemirror_mode": {
    "name": "ipython",
    "version": 3
   },
   "file_extension": ".py",
   "mimetype": "text/x-python",
   "name": "python",
   "nbconvert_exporter": "python",
   "pygments_lexer": "ipython3",
   "version": "3.6.3"
  }
 },
 "nbformat": 4,
 "nbformat_minor": 4
}
